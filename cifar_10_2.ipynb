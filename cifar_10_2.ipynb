{
  "cells": [
    {
      "cell_type": "markdown",
      "metadata": {
        "id": "view-in-github",
        "colab_type": "text"
      },
      "source": [
        "<a href=\"https://colab.research.google.com/github/Iryna-Lytvynchuk/Data_project/blob/main/cifar_10_2.ipynb\" target=\"_parent\"><img src=\"https://colab.research.google.com/assets/colab-badge.svg\" alt=\"Open In Colab\"/></a>"
      ]
    },
    {
      "cell_type": "code",
      "execution_count": null,
      "metadata": {
        "id": "1h08AN5ZEy18"
      },
      "outputs": [],
      "source": [
        "import numpy as np\n",
        "from tensorflow import keras\n",
        "from keras import layers\n",
        "from keras import models\n",
        "from keras import optimizers\n",
        "from keras import losses\n",
        "from keras import metrics\n",
        "from keras import regularizers\n",
        "from tensorflow.keras.utils import to_categorical\n",
        "from keras.datasets import cifar10"
      ]
    },
    {
      "cell_type": "code",
      "execution_count": null,
      "metadata": {
        "colab": {
          "base_uri": "https://localhost:8080/"
        },
        "id": "4Ux8kThzE0QZ",
        "outputId": "d811f13d-4b8d-4711-b08e-bad425df4254"
      },
      "outputs": [
        {
          "name": "stdout",
          "output_type": "stream",
          "text": [
            "Downloading data from https://www.cs.toronto.edu/~kriz/cifar-10-python.tar.gz\n",
            "170500096/170498071 [==============================] - 3s 0us/step\n",
            "170508288/170498071 [==============================] - 3s 0us/step\n"
          ]
        }
      ],
      "source": [
        "cifar10 = keras.datasets.cifar10\n",
        "(x_train,y_train),(x_test,y_test) = cifar10.load_data()"
      ]
    },
    {
      "cell_type": "code",
      "execution_count": null,
      "metadata": {
        "colab": {
          "base_uri": "https://localhost:8080/"
        },
        "id": "KImlTcAjPxUU",
        "outputId": "02719676-114f-465c-92dd-5fb47815d348"
      },
      "outputs": [
        {
          "name": "stdout",
          "output_type": "stream",
          "text": [
            "Train: X=(50000, 32, 32, 3), y=(50000, 1)\n",
            "Test: X=(10000, 32, 32, 3), y=(10000, 1)\n"
          ]
        }
      ],
      "source": [
        "print('Train: X=%s, y=%s' % (x_train.shape, y_train.shape))\n",
        "print('Test: X=%s, y=%s' % (x_test.shape, y_test.shape))"
      ]
    },
    {
      "cell_type": "code",
      "execution_count": null,
      "metadata": {
        "colab": {
          "base_uri": "https://localhost:8080/"
        },
        "id": "FA3mryDWnt6h",
        "outputId": "24e014e5-0391-4f96-a54d-f14973e177e3"
      },
      "outputs": [
        {
          "name": "stdout",
          "output_type": "stream",
          "text": [
            "Train: X=(50000, 32, 32, 3), y=(50000, 10)\n",
            "Test: X=(10000, 32, 32, 3), y=(10000, 10)\n"
          ]
        }
      ],
      "source": [
        "x_train = x_train / 255.0\n",
        "x_test = x_test / 255.0\n",
        "y_train = to_categorical(y_train)\n",
        "y_test = to_categorical(y_test)\n",
        "\n",
        "print('Train: X=%s, y=%s' % (x_train.shape, y_train.shape))\n",
        "print('Test: X=%s, y=%s' % (x_test.shape, y_test.shape))"
      ]
    },
    {
      "cell_type": "code",
      "execution_count": null,
      "metadata": {
        "id": "lldLKLdj1Qbq"
      },
      "outputs": [],
      "source": [
        "model = models.Sequential([\n",
        "    layers.Conv2D(32, (3, 3), activation=\"relu\", input_shape=(32, 32, 3)),\n",
        "    layers.Conv2D(32, (3, 3), activation=\"relu\"),\n",
        "    layers.MaxPooling2D((2, 2)),\n",
        "    layers.Dropout(0.25),\n",
        "\n",
        "    layers.Conv2D(64, (3, 3), activation=\"relu\"),\n",
        "    layers.Conv2D(64, (3, 3), activation=\"relu\"),\n",
        "    layers.MaxPooling2D((2, 2)),\n",
        "    layers.Dropout(0.25),\n",
        "\n",
        "    layers.Conv2D(128, (3, 3), activation=\"relu\"),\n",
        "\n",
        "    layers.Flatten(),\n",
        "    layers.Dense(64, activation=\"relu\", kernel_regularizer=regularizers.l2(0.001)),\n",
        "    layers.Dropout(0.5),\n",
        "    layers.Dense(10, activation=\"softmax\")\n",
        "])\n",
        "model.compile(optimizer='adam',\n",
        "              loss='categorical_crossentropy',\n",
        "              metrics=['accuracy'])"
      ]
    },
    {
      "cell_type": "code",
      "execution_count": null,
      "metadata": {
        "colab": {
          "base_uri": "https://localhost:8080/"
        },
        "id": "4Y0aXKSIFOJU",
        "outputId": "b920b175-b1d2-4642-9622-6f185d7ba163"
      },
      "outputs": [
        {
          "name": "stdout",
          "output_type": "stream",
          "text": [
            "Model: \"sequential\"\n",
            "_________________________________________________________________\n",
            " Layer (type)                Output Shape              Param #   \n",
            "=================================================================\n",
            " conv2d (Conv2D)             (None, 30, 30, 32)        896       \n",
            "                                                                 \n",
            " conv2d_1 (Conv2D)           (None, 28, 28, 32)        9248      \n",
            "                                                                 \n",
            " max_pooling2d (MaxPooling2D  (None, 14, 14, 32)       0         \n",
            " )                                                               \n",
            "                                                                 \n",
            " dropout (Dropout)           (None, 14, 14, 32)        0         \n",
            "                                                                 \n",
            " conv2d_2 (Conv2D)           (None, 12, 12, 64)        18496     \n",
            "                                                                 \n",
            " conv2d_3 (Conv2D)           (None, 10, 10, 64)        36928     \n",
            "                                                                 \n",
            " max_pooling2d_1 (MaxPooling  (None, 5, 5, 64)         0         \n",
            " 2D)                                                             \n",
            "                                                                 \n",
            " dropout_1 (Dropout)         (None, 5, 5, 64)          0         \n",
            "                                                                 \n",
            " conv2d_4 (Conv2D)           (None, 3, 3, 128)         73856     \n",
            "                                                                 \n",
            " flatten (Flatten)           (None, 1152)              0         \n",
            "                                                                 \n",
            " dense (Dense)               (None, 64)                73792     \n",
            "                                                                 \n",
            " dropout_2 (Dropout)         (None, 64)                0         \n",
            "                                                                 \n",
            " dense_1 (Dense)             (None, 10)                650       \n",
            "                                                                 \n",
            "=================================================================\n",
            "Total params: 213,866\n",
            "Trainable params: 213,866\n",
            "Non-trainable params: 0\n",
            "_________________________________________________________________\n"
          ]
        }
      ],
      "source": [
        "model.summary()"
      ]
    },
    {
      "cell_type": "code",
      "execution_count": null,
      "metadata": {
        "colab": {
          "base_uri": "https://localhost:8080/"
        },
        "id": "kTKoEOD1FnW8",
        "outputId": "254f36cc-049e-4e4b-dbc7-3141eae0b4b3"
      },
      "outputs": [
        {
          "name": "stdout",
          "output_type": "stream",
          "text": [
            "Epoch 1/20\n",
            "625/625 [==============================] - 139s 221ms/step - loss: 1.9373 - accuracy: 0.2825 - val_loss: 1.5586 - val_accuracy: 0.4485\n",
            "Epoch 2/20\n",
            "625/625 [==============================] - 138s 221ms/step - loss: 1.5687 - accuracy: 0.4471 - val_loss: 1.3449 - val_accuracy: 0.5305\n",
            "Epoch 3/20\n",
            "625/625 [==============================] - 138s 221ms/step - loss: 1.4065 - accuracy: 0.5126 - val_loss: 1.2465 - val_accuracy: 0.5737\n",
            "Epoch 4/20\n",
            "625/625 [==============================] - 146s 234ms/step - loss: 1.3004 - accuracy: 0.5574 - val_loss: 1.0840 - val_accuracy: 0.6330\n",
            "Epoch 5/20\n",
            "625/625 [==============================] - 140s 224ms/step - loss: 1.2123 - accuracy: 0.5938 - val_loss: 1.0467 - val_accuracy: 0.6442\n",
            "Epoch 6/20\n",
            "625/625 [==============================] - 140s 224ms/step - loss: 1.1576 - accuracy: 0.6174 - val_loss: 0.9709 - val_accuracy: 0.6733\n",
            "Epoch 7/20\n",
            "625/625 [==============================] - 139s 223ms/step - loss: 1.1027 - accuracy: 0.6355 - val_loss: 0.9635 - val_accuracy: 0.6730\n",
            "Epoch 8/20\n",
            "625/625 [==============================] - 139s 222ms/step - loss: 1.0609 - accuracy: 0.6521 - val_loss: 0.9483 - val_accuracy: 0.6823\n",
            "Epoch 9/20\n",
            "625/625 [==============================] - 138s 222ms/step - loss: 1.0293 - accuracy: 0.6628 - val_loss: 0.8732 - val_accuracy: 0.7146\n",
            "Epoch 10/20\n",
            "625/625 [==============================] - 136s 217ms/step - loss: 0.9886 - accuracy: 0.6772 - val_loss: 0.8929 - val_accuracy: 0.7039\n",
            "Epoch 11/20\n",
            "625/625 [==============================] - 136s 217ms/step - loss: 0.9693 - accuracy: 0.6860 - val_loss: 0.8601 - val_accuracy: 0.7186\n",
            "Epoch 12/20\n",
            "625/625 [==============================] - 138s 221ms/step - loss: 0.9461 - accuracy: 0.6966 - val_loss: 0.8301 - val_accuracy: 0.7293\n",
            "Epoch 13/20\n",
            "625/625 [==============================] - 138s 220ms/step - loss: 0.9235 - accuracy: 0.7035 - val_loss: 0.8236 - val_accuracy: 0.7281\n",
            "Epoch 14/20\n",
            "625/625 [==============================] - 139s 223ms/step - loss: 0.9046 - accuracy: 0.7100 - val_loss: 0.8278 - val_accuracy: 0.7289\n",
            "Epoch 15/20\n",
            "625/625 [==============================] - 139s 222ms/step - loss: 0.8914 - accuracy: 0.7198 - val_loss: 0.8197 - val_accuracy: 0.7328\n",
            "Epoch 16/20\n",
            "625/625 [==============================] - 139s 223ms/step - loss: 0.8740 - accuracy: 0.7218 - val_loss: 0.7947 - val_accuracy: 0.7421\n",
            "Epoch 17/20\n",
            "625/625 [==============================] - 140s 224ms/step - loss: 0.8541 - accuracy: 0.7308 - val_loss: 0.7970 - val_accuracy: 0.7450\n",
            "Epoch 18/20\n",
            "625/625 [==============================] - 141s 226ms/step - loss: 0.8436 - accuracy: 0.7339 - val_loss: 0.8340 - val_accuracy: 0.7348\n",
            "Epoch 19/20\n",
            "625/625 [==============================] - 141s 226ms/step - loss: 0.8282 - accuracy: 0.7369 - val_loss: 0.7985 - val_accuracy: 0.7445\n",
            "Epoch 20/20\n",
            "625/625 [==============================] - 141s 225ms/step - loss: 0.8168 - accuracy: 0.7428 - val_loss: 0.7754 - val_accuracy: 0.7539\n",
            "313/313 [==============================] - 9s 28ms/step - loss: 0.7888 - accuracy: 0.7546\n",
            "[0.7887751460075378, 0.7545999884605408]\n"
          ]
        }
      ],
      "source": [
        "history = model.fit(x_train, y_train, epochs=20, validation_split=0.2, batch_size=64)\n",
        "\n",
        "results = model.evaluate(x_test, y_test)\n",
        "print(results)"
      ]
    },
    {
      "cell_type": "code",
      "execution_count": null,
      "metadata": {
        "colab": {
          "base_uri": "https://localhost:8080/",
          "height": 590
        },
        "id": "nK-P4q96pLTx",
        "outputId": "09f8ec83-5edc-47da-d164-424441c6deab"
      },
      "outputs": [
        {
          "data": {
            "image/png": "[encoded data removed]",
            "text/plain": [
              "<Figure size 432x288 with 1 Axes>"
            ]
          },
          "metadata": {},
          "output_type": "display_data"
        },
        {
          "data": {
            "text/plain": [
              "<matplotlib.legend.Legend at 0x7fe1108bd810>"
            ]
          },
          "execution_count": 14,
          "metadata": {},
          "output_type": "execute_result"
        },
        {
          "data": {
            "image/png": "[encoded data removed]",
            "text/plain": [
              "<Figure size 432x288 with 1 Axes>"
            ]
          },
          "metadata": {},
          "output_type": "display_data"
        }
      ],
      "source": [
        "import matplotlib.pyplot as plt\n",
        "\n",
        "\n",
        "history_dict = history.history\n",
        "loss_values = history_dict['loss']\n",
        "val_loss_values = history_dict['val_loss']\n",
        "\n",
        "epochs = range(1, len(history_dict['accuracy']) + 1)\n",
        "\n",
        "plt.plot(epochs, loss_values, 'bo', label='Training loss')\n",
        "plt.plot(epochs, val_loss_values, 'b', label='Validation loss')\n",
        "plt.title('Training and validation loss')\n",
        "plt.xlabel('Epochs')\n",
        "plt.ylabel('Loss')\n",
        "plt.legend()\n",
        "plt.show()\n",
        "\n",
        "plt.clf()\n",
        "val_acc_values = history_dict['val_accuracy']\n",
        "plt.plot(epochs, history_dict['accuracy'], 'bo', label='Training acc')\n",
        "plt.plot(epochs, history_dict['val_accuracy'], 'b', label='Validation acc')\n",
        "plt.title('Training and validation accuracy')\n",
        "plt.xlabel('Epochs')\n",
        "plt.ylabel('Loss')\n",
        "plt.legend()"
      ]
    },
    {
      "cell_type": "code",
      "execution_count": null,
      "metadata": {
        "colab": {
          "base_uri": "https://localhost:8080/",
          "height": 283
        },
        "id": "3erAJpG8utYc",
        "outputId": "e4ae7c59-581a-4a9e-b277-dafe99980375"
      },
      "outputs": [
        {
          "output_type": "execute_result",
          "data": {
            "text/plain": [
              "<matplotlib.image.AxesImage at 0x7f298049edd0>"
            ]
          },
          "metadata": {},
          "execution_count": 16
        },
        {
          "output_type": "display_data",
          "data": {
            "image/png": "[encoded data removed]",
            "text/plain": [
              "<Figure size 432x288 with 1 Axes>"
            ]
          },
          "metadata": {
            "needs_background": "light"
          }
        }
      ],
      "source": [
        "plt.imshow(x_test[7])"
      ]
    },
    {
      "cell_type": "code",
      "execution_count": null,
      "metadata": {
        "colab": {
          "base_uri": "https://localhost:8080/"
        },
        "id": "wTx9VDi5u7jy",
        "outputId": "36b60302-b3c6-4adc-c1cc-0e3cfeef21b9"
      },
      "outputs": [
        {
          "output_type": "stream",
          "name": "stdout",
          "text": [
            "Output label: 6\n",
            "frog\n"
          ]
        }
      ],
      "source": [
        "import cv2\n",
        "\n",
        "labels =[\"airplane\", \"automobile\", \"bird\", \"cat\", \"deer\", \"dog\", \"frog\", \"horse\", \"ship\", \"truck\"]\n",
        "\n",
        "res_img = cv2.resize(x_test[7],(32,32))\n",
        "res_img = np.expand_dims(res_img, axis = 0)\n",
        "\n",
        "predictions = model.predict(res_img)\n",
        "n = np.argmax(predictions)\n",
        "print(\"Output label:\", n)\n",
        "print(labels[n])"
      ]
    }
  ],
  "metadata": {
    "colab": {
      "collapsed_sections": [],
      "name": "cifar_10_2.ipynb",
      "provenance": [],
      "authorship_tag": "ABX9TyMNoskaZE72xZ8ADTJ0vie6",
      "include_colab_link": true
    },
    "kernelspec": {
      "display_name": "Python 3",
      "name": "python3"
    },
    "language_info": {
      "name": "python"
    }
  },
  "nbformat": 4,
  "nbformat_minor": 0
}