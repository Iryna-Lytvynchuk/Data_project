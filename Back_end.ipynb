{
  "nbformat": 4,
  "nbformat_minor": 0,
  "metadata": {
    "colab": {
      "name": "Back-end.ipynb",
      "provenance": [],
      "authorship_tag": "ABX9TyN5A2ftKnh8XbcfMTZQURff",
      "include_colab_link": true
    },
    "kernelspec": {
      "name": "python3",
      "display_name": "Python 3"
    },
    "language_info": {
      "name": "python"
    }
  },
  "cells": [
    {
      "cell_type": "markdown",
      "metadata": {
        "id": "view-in-github",
        "colab_type": "text"
      },
      "source": [
        "<a href=\"https://colab.research.google.com/github/Iryna-Lytvynchuk/Data_project/blob/main/Back_end.ipynb\" target=\"_parent\"><img src=\"https://colab.research.google.com/assets/colab-badge.svg\" alt=\"Open In Colab\"/></a>"
      ]
    },
    {
      "cell_type": "code",
      "execution_count": null,
      "metadata": {
        "id": "g1T7ep0H-Sm0"
      },
      "outputs": [],
      "source": [
        "import base64\n",
        "import numpy as np\n",
        "import io\n",
        "from PIL import Image\n",
        "import tensorflow.keras as keras\n",
        "from tensorflow.keras.models import Sequential\n",
        "from tensorflow.keras.models import load_model\n",
        "from tensorflow.keras.preprocessing.image import ImageDataGenerator\n",
        "from tensorflow.keras.preprocessing.image import img_to_array\n",
        "from flask import request\n",
        "from flask import jsonify\n",
        "from flask import Flask\n",
        "\n",
        "app = Flask(__name__)\n",
        "\n",
        "\n",
        "def get_model():\n",
        "    global model\n",
        "    model = load_model(\"CNN_2_CIFAR10.h5\")\n",
        "    print(\"*model is loaded\")\n",
        "\n",
        "\n",
        "def preprocess_image(image, target_size):\n",
        "    if image.mode != \"RGB\":\n",
        "        image = image.convert(\"RGB\")\n",
        "    image = image.resize(target_size)\n",
        "    image = img_to_array(image)\n",
        "    image = np.expand_dims(image, axis=0)\n",
        "\n",
        "    return image\n",
        "\n",
        "\n",
        "print(\" *Loading Keras model....\")\n",
        "get_model()\n",
        "\n",
        "\n",
        "@app.route(\"/predict\", methods=[\"POST\"])\n",
        "def predict():\n",
        "    message = request.get_json(force=True)\n",
        "    encoded = message['image']\n",
        "    decoded = base64.b64decode(encoded)\n",
        "    image = Image.open(io.BytesIO(decoded))\n",
        "    processed_image = preprocess_image(image, target_size=(32, 32))\n",
        "\n",
        "    prediction = model.predict(processed_image).tolist()\n",
        "\n",
        "    response = {\n",
        "        'prediction': {\n",
        "            'airplane': prediction[0][0],\n",
        "            'automobile': prediction[0][1],\n",
        "            'bird': prediction[0][2],\n",
        "            'cat': prediction[0][3],\n",
        "            'deer': prediction[0][4],\n",
        "            'dog': prediction[0][5],\n",
        "            'frog': prediction[0][6],\n",
        "            'horse': prediction[0][7],\n",
        "            'ship': prediction[0][8],\n",
        "            'truck': prediction[0][9]\n",
        "\n",
        "        }\n",
        "    }\n",
        "    return jsonify(response)"
      ]
    }
  ]
}